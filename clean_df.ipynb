{
 "cells": [
  {
   "cell_type": "code",
   "execution_count": 1,
   "id": "2cb812ee",
   "metadata": {},
   "outputs": [],
   "source": [
    "import pandas as pd\n",
    "import numpy as np\n",
    "clean_df = pd.read_csv('/Users/danielzagoury/PycharmProjects/pythonProject/hotels/hotels_df.csv')\n",
    "\n",
    "clean_df=clean_df.drop_duplicates(ignore_index=True)\n",
    "\n",
    "#replace all the NAN valeus with the mean of the column\n",
    "mean_value = clean_df['rate_of_the_hotel'].mean()\n",
    "clean_df['rate_of_the_hotel'].fillna(value=mean_value, inplace=True)\n",
    "\n",
    "mean_value = clean_df['location_rating'].mean()\n",
    "clean_df['location_rating'].fillna(value=mean_value, inplace=True)\n",
    "\n",
    "mean_value = clean_df['comfort'].mean()\n",
    "clean_df['comfort'].fillna(value=mean_value, inplace=True)\n",
    "\n",
    "mean_value = clean_df['staff'].mean()\n",
    "clean_df['staff'].fillna(value=mean_value, inplace=True)\n",
    "\n",
    "mean_value = clean_df['rate_of_facilities'].mean()\n",
    "clean_df['rate_of_facilities'].fillna(value=mean_value, inplace=True)\n",
    "\n",
    "mean_value = clean_df['value_for_money'].mean()\n",
    "clean_df['value_for_money'].fillna(value=mean_value, inplace=True)\n",
    "\n",
    "mean_value = clean_df['Cleanliness'].mean()\n",
    "clean_df['Cleanliness'].fillna(value=mean_value, inplace=True)\n",
    "sum_array = []\n",
    "#add new column that count the sum of the facilities of the hotel\n",
    "for i in range(clean_df.shape[0]):\n",
    "    sum= clean_df.loc[i,\"bar\"]+clean_df.loc[i,\"swimming_pool\"]+clean_df.loc[i,\"parking\"]+clean_df.loc[i,\"Elevator\"]+clean_df.loc[i,\"Sauna\"]+ clean_df.loc[i, \"safe\"]\n",
    "    sum_array.append(sum)\n",
    "\n",
    "# add new column that count the sum of the services of the hotel\n",
    "sum_array_services = []\n",
    "for i in range(clean_df.shape[0]):\n",
    "    sum = clean_df.loc[i, \"desk_24/7\"]+clean_df.loc[i, \"wifi\"] + clean_df.loc[i, \"Babysitting_Child_services\"]+ clean_df.loc[i, \"pets\"]+clean_df.loc[i, \"Wheelchair_accessible\"]\n",
    "    sum_array_services.append(sum)\n",
    "#clean_df['sum of facilities'] = sum_array\n",
    "clean_df.loc[:, 'sum of facilities'] = sum_array\n",
    "clean_df.loc[:, 'sum of services'] = sum_array_services\n",
    "\n",
    "#print (sum_array)\n",
    "clean_df=clean_df.copy()\n",
    "\n",
    "#compression_opts = dict(method='zip',archive_name='clean_df.csv')\n",
    "clean_df.to_csv('hotels_clean_data.csv', index=False)\n"
   ]
  },
  {
   "cell_type": "code",
   "execution_count": null,
   "id": "3e73fdb0",
   "metadata": {},
   "outputs": [],
   "source": []
  }
 ],
 "metadata": {
  "kernelspec": {
   "display_name": "Python 3 (ipykernel)",
   "language": "python",
   "name": "python3"
  },
  "language_info": {
   "codemirror_mode": {
    "name": "ipython",
    "version": 3
   },
   "file_extension": ".py",
   "mimetype": "text/x-python",
   "name": "python",
   "nbconvert_exporter": "python",
   "pygments_lexer": "ipython3",
   "version": "3.9.13"
  }
 },
 "nbformat": 4,
 "nbformat_minor": 5
}
